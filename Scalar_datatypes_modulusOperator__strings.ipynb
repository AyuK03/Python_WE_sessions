{
  "nbformat": 4,
  "nbformat_minor": 0,
  "metadata": {
    "colab": {
      "provenance": [],
      "toc_visible": true,
      "authorship_tag": "ABX9TyNtNQJjtBQJbXdcIBUinY3U",
      "include_colab_link": true
    },
    "kernelspec": {
      "name": "python3",
      "display_name": "Python 3"
    },
    "language_info": {
      "name": "python"
    }
  },
  "cells": [
    {
      "cell_type": "markdown",
      "metadata": {
        "id": "view-in-github",
        "colab_type": "text"
      },
      "source": [
        "<a href=\"https://colab.research.google.com/github/AyuK03/Python_WE_sessions/blob/main/Scalar_datatypes_modulusOperator__strings.ipynb\" target=\"_parent\"><img src=\"https://colab.research.google.com/assets/colab-badge.svg\" alt=\"Open In Colab\"/></a>"
      ]
    },
    {
      "cell_type": "markdown",
      "source": [
        "SESSION 1"
      ],
      "metadata": {
        "id": "rIudk5gxSiUI"
      }
    },
    {
      "cell_type": "code",
      "execution_count": null,
      "metadata": {
        "colab": {
          "base_uri": "https://localhost:8080/"
        },
        "id": "xolRZvADUpYs",
        "outputId": "6b81b1ff-6ef2-45cd-ed49-d0be11c4b994"
      },
      "outputs": [
        {
          "output_type": "stream",
          "name": "stdout",
          "text": [
            "Hello World\n"
          ]
        }
      ],
      "source": [
        "print(\"Hello World\")"
      ]
    },
    {
      "cell_type": "code",
      "source": [
        "print(2+4)\n",
        "print(9*8)\n",
        "print(7-4)\n",
        "print(4/2)"
      ],
      "metadata": {
        "colab": {
          "base_uri": "https://localhost:8080/"
        },
        "id": "vJcWUJi6U8_R",
        "outputId": "bef85151-bb11-416a-aa6a-ed06e65b34d6"
      },
      "execution_count": null,
      "outputs": [
        {
          "output_type": "stream",
          "name": "stdout",
          "text": [
            "6\n",
            "72\n",
            "3\n",
            "2.0\n"
          ]
        }
      ]
    },
    {
      "cell_type": "code",
      "source": [
        "print(-13%5)"
      ],
      "metadata": {
        "colab": {
          "base_uri": "https://localhost:8080/"
        },
        "id": "cf4rBAslYLmq",
        "outputId": "2eda98cf-7d25-4aef-a568-c465cf63d0bd"
      },
      "execution_count": null,
      "outputs": [
        {
          "output_type": "stream",
          "name": "stdout",
          "text": [
            "2\n"
          ]
        }
      ]
    },
    {
      "cell_type": "code",
      "source": [
        "print(13%-5)"
      ],
      "metadata": {
        "colab": {
          "base_uri": "https://localhost:8080/"
        },
        "id": "TxHcK42DYgK0",
        "outputId": "d8f915b3-5217-4fd9-b2ab-763b0b2b9bb5"
      },
      "execution_count": null,
      "outputs": [
        {
          "output_type": "stream",
          "name": "stdout",
          "text": [
            "-2\n"
          ]
        }
      ]
    },
    {
      "cell_type": "markdown",
      "source": [
        "The modulo result always has the same sign as the divisor, while the remainder has the same sign as the dividend."
      ],
      "metadata": {
        "id": "S4f7Jw-HbRMn"
      }
    },
    {
      "cell_type": "code",
      "source": [
        "a = 45\n",
        "b = 80\n",
        "\n",
        "print( a==b, a== b-10, a+24 ==b, a<b,a>=b)\n"
      ],
      "metadata": {
        "colab": {
          "base_uri": "https://localhost:8080/"
        },
        "id": "lzFtbMebfS-F",
        "outputId": "5dc85bab-abf9-4c7e-f48c-9a8760b41e40"
      },
      "execution_count": null,
      "outputs": [
        {
          "output_type": "stream",
          "name": "stdout",
          "text": [
            "False False False True False\n"
          ]
        }
      ]
    },
    {
      "cell_type": "code",
      "source": [
        "a < b < 100"
      ],
      "metadata": {
        "colab": {
          "base_uri": "https://localhost:8080/"
        },
        "id": "CtAz3Oh0gMAf",
        "outputId": "3178fc8d-e0fb-4098-811f-7d9547f468a8"
      },
      "execution_count": null,
      "outputs": [
        {
          "output_type": "execute_result",
          "data": {
            "text/plain": [
              "True"
            ]
          },
          "metadata": {},
          "execution_count": 6
        }
      ]
    },
    {
      "cell_type": "markdown",
      "source": [
        "Float in Python same as Double in C"
      ],
      "metadata": {
        "id": "lR664uFZgjiu"
      }
    },
    {
      "cell_type": "code",
      "source": [
        "print(2/7)"
      ],
      "metadata": {
        "colab": {
          "base_uri": "https://localhost:8080/"
        },
        "id": "rATNqii_hebt",
        "outputId": "f413a1a2-9b7c-4114-aa42-5d68682b96ca"
      },
      "execution_count": null,
      "outputs": [
        {
          "output_type": "stream",
          "name": "stdout",
          "text": [
            "0.2857142857142857\n"
          ]
        }
      ]
    },
    {
      "cell_type": "code",
      "source": [
        "print(12.9 * 3.6 )"
      ],
      "metadata": {
        "colab": {
          "base_uri": "https://localhost:8080/"
        },
        "id": "8L69LXFxQTBE",
        "outputId": "4a907d8e-d234-448b-f08d-44f43422c62c"
      },
      "execution_count": null,
      "outputs": [
        {
          "output_type": "stream",
          "name": "stdout",
          "text": [
            "46.440000000000005\n"
          ]
        }
      ]
    },
    {
      "cell_type": "code",
      "source": [
        "print(12.9 * 3.6 == 46.44)"
      ],
      "metadata": {
        "colab": {
          "base_uri": "https://localhost:8080/"
        },
        "id": "1uE5kK5ah1Zx",
        "outputId": "857d4895-4b17-4273-91d7-7938a4513096"
      },
      "execution_count": null,
      "outputs": [
        {
          "output_type": "stream",
          "name": "stdout",
          "text": [
            "False\n"
          ]
        }
      ]
    },
    {
      "cell_type": "code",
      "source": [
        "1/3 == 1/3"
      ],
      "metadata": {
        "id": "NxnppAPejqTe",
        "outputId": "8f5a4653-ac27-4313-a9d9-019c99d08c7b",
        "colab": {
          "base_uri": "https://localhost:8080/"
        }
      },
      "execution_count": null,
      "outputs": [
        {
          "output_type": "execute_result",
          "data": {
            "text/plain": [
              "True"
            ]
          },
          "metadata": {},
          "execution_count": 9
        }
      ]
    },
    {
      "cell_type": "code",
      "source": [
        "2/3 == (1/3+1/3)"
      ],
      "metadata": {
        "colab": {
          "base_uri": "https://localhost:8080/"
        },
        "id": "E_fnR7BOi6rV",
        "outputId": "27b483b1-dedf-4012-dd4a-0b242dd287b4"
      },
      "execution_count": null,
      "outputs": [
        {
          "output_type": "execute_result",
          "data": {
            "text/plain": [
              "True"
            ]
          },
          "metadata": {},
          "execution_count": 10
        }
      ]
    },
    {
      "cell_type": "code",
      "source": [
        "import math\n",
        "math.exp(100)"
      ],
      "metadata": {
        "colab": {
          "base_uri": "https://localhost:8080/"
        },
        "id": "m7Z_hZmtgBhB",
        "outputId": "f4b32736-19a0-48ab-f3e1-e61423c78b98"
      },
      "execution_count": null,
      "outputs": [
        {
          "output_type": "execute_result",
          "data": {
            "text/plain": [
              "2.6881171418161356e+43"
            ]
          },
          "metadata": {},
          "execution_count": 11
        }
      ]
    },
    {
      "cell_type": "code",
      "source": [
        "\n",
        "math.exp(1000)"
      ],
      "metadata": {
        "colab": {
          "base_uri": "https://localhost:8080/",
          "height": 165
        },
        "id": "40aNF95GekdX",
        "outputId": "c3ba5bef-7aab-4d07-e235-a51978a206fc"
      },
      "execution_count": null,
      "outputs": [
        {
          "output_type": "error",
          "ename": "OverflowError",
          "evalue": "ignored",
          "traceback": [
            "\u001b[0;31m---------------------------------------------------------------------------\u001b[0m",
            "\u001b[0;31mOverflowError\u001b[0m                             Traceback (most recent call last)",
            "\u001b[0;32m<ipython-input-12-e0c11add5017>\u001b[0m in \u001b[0;36m<cell line: 1>\u001b[0;34m()\u001b[0m\n\u001b[0;32m----> 1\u001b[0;31m \u001b[0mmath\u001b[0m\u001b[0;34m.\u001b[0m\u001b[0mexp\u001b[0m\u001b[0;34m(\u001b[0m\u001b[0;36m1000\u001b[0m\u001b[0;34m)\u001b[0m\u001b[0;34m\u001b[0m\u001b[0;34m\u001b[0m\u001b[0m\n\u001b[0m",
            "\u001b[0;31mOverflowError\u001b[0m: math range error"
          ]
        }
      ]
    },
    {
      "cell_type": "markdown",
      "source": [
        "In computer programming, a programming language is **strongly typed** if it demands the specification of data types. A programming language is loosely typed, or weakly typed, when it does not require the explicit specification of different types of objects and variables."
      ],
      "metadata": {
        "id": "ZICDNClXs9Kp"
      }
    },
    {
      "cell_type": "markdown",
      "source": [
        "**WHY PYTHON DOES'T HAVE A LIMIT ?**\n",
        "\n",
        "There used to be a limit in earlier versions of Python for int. But, this is dropped as Python treats integers as objects. So, although Python allocates 32 bits for the value object reference is pointing to, as the value goes beyond 2^32 it can keep moving up all the way up to the size of RAM on your computer."
      ],
      "metadata": {
        "id": "RNfz_WB_tQga"
      }
    },
    {
      "cell_type": "markdown",
      "source": [
        "# New Section : 2nd Session"
      ],
      "metadata": {
        "id": "UhIoX8yEg6RZ"
      }
    },
    {
      "cell_type": "markdown",
      "source": [
        "Scalar datatype : represent single value\n",
        "\n",
        "4 scalar datatypes : int, float, bool, None\n",
        "\n",
        "Non scalar objects are: These are the objects with internal structure. Ex: strings, lists, arrays and tuples"
      ],
      "metadata": {
        "id": "Jc-spy_Qd691"
      }
    },
    {
      "cell_type": "code",
      "source": [
        "z = 2+3*4**2/6\n",
        "print(z)"
      ],
      "metadata": {
        "colab": {
          "base_uri": "https://localhost:8080/"
        },
        "id": "FtPeWW2xh0CY",
        "outputId": "e8a61a12-4537-41b8-83f3-ba586a027a5d"
      },
      "execution_count": null,
      "outputs": [
        {
          "output_type": "stream",
          "name": "stdout",
          "text": [
            "10.0\n"
          ]
        }
      ]
    },
    {
      "cell_type": "code",
      "source": [
        "a = 5\n",
        "b = 6\n",
        "c = -7\n",
        "\n",
        "x = (-b + (b * b - 4 * a *c)** 0.5)/ 2 * a\n",
        "y = (-b - (b * b - 4 * a *c)** 0.5)/ 2 * a\n",
        "\n",
        "print(x,y)\n",
        "print(\"\")\n",
        "print(f\"The two roots of {a}x^2 + {b}x + {c} are {x} and {y}\")\n",
        "print(\"\")\n",
        "print(\" USING STRING FORMATIING :\")\n",
        "print(\"\")\n",
        "print(f\"The two roots of {a}x^2 + {b}x {c} are {x: .5} and {y: .5}\")\n",
        "\n"
      ],
      "metadata": {
        "colab": {
          "base_uri": "https://localhost:8080/"
        },
        "id": "FGOKbaXilUtE",
        "outputId": "b4fc9d0c-625f-470d-fa89-efb2731a6fb3"
      },
      "execution_count": null,
      "outputs": [
        {
          "output_type": "stream",
          "name": "stdout",
          "text": [
            "18.166247903553998 -48.166247903553995\n",
            "\n",
            "The two roots of 5x^2 + 6x + -7 are 18.166247903553998 and -48.166247903553995\n",
            "\n",
            " USING STRING FORMATIING :\n",
            "\n",
            "The two roots of 5x^2 + 6x -7 are  18.166 and -48.166\n"
          ]
        }
      ]
    },
    {
      "cell_type": "code",
      "source": [],
      "metadata": {
        "id": "eFK7mQGBnd45"
      },
      "execution_count": null,
      "outputs": []
    }
  ]
}