{
  "nbformat": 4,
  "nbformat_minor": 0,
  "metadata": {
    "colab": {
      "provenance": [],
      "include_colab_link": true
    },
    "kernelspec": {
      "name": "python3",
      "display_name": "Python 3"
    },
    "language_info": {
      "name": "python"
    }
  },
  "cells": [
    {
      "cell_type": "markdown",
      "metadata": {
        "id": "view-in-github",
        "colab_type": "text"
      },
      "source": [
        "<a href=\"https://colab.research.google.com/github/AyuK03/Python_WE_sessions/blob/main/Py_3_and_4___Conditional_statements___strings___Functions_.ipynb\" target=\"_parent\"><img src=\"https://colab.research.google.com/assets/colab-badge.svg\" alt=\"Open In Colab\"/></a>"
      ]
    },
    {
      "cell_type": "markdown",
      "source": [
        "**CONDITIONS**"
      ],
      "metadata": {
        "id": "rDwE-5qsHzRZ"
      }
    },
    {
      "cell_type": "markdown",
      "source": [
        "mark(percentage), mark < 40 => Fail,\n",
        "mark >= 40, pass, diplay the Grades.\n",
        "\n",
        "40 - 55  => D\n",
        "\n",
        "56 - 65  => C\n",
        "\n",
        "66 - 75  => B\n",
        "\n",
        "76 - 85  => A\n",
        "\n",
        "86 and above => A*"
      ],
      "metadata": {
        "id": "8l4a79C6KGD_"
      }
    },
    {
      "cell_type": "markdown",
      "source": [
        "Ak's code"
      ],
      "metadata": {
        "id": "JmDk33bzRtYt"
      }
    },
    {
      "cell_type": "code",
      "source": [
        "marks = float(input(\"Enter marks in % : \"))\n",
        "\n",
        "if marks<40:\n",
        "  print(\"Fail\")\n",
        "elif marks>=40 and marks<=55:\n",
        "  print(\"D\")\n",
        "\n",
        "elif marks>=56 and marks<=65:\n",
        "  print(\"C\")\n",
        "\n",
        "elif marks>=66 and marks<=75:\n",
        "  print(\"B\")\n",
        "\n",
        "elif marks>75 and marks<=85:\n",
        "  print(\"A\")\n",
        "\n",
        "\n",
        "elif marks>=86:\n",
        "  print(\"A*\")"
      ],
      "metadata": {
        "id": "LwyfE-1xRsfZ",
        "outputId": "771820b3-3857-4b03-87fd-0548e42268a7",
        "colab": {
          "base_uri": "https://localhost:8080/"
        }
      },
      "execution_count": null,
      "outputs": [
        {
          "output_type": "stream",
          "name": "stdout",
          "text": [
            "Enter marks in % : 32\n",
            "Fail\n"
          ]
        }
      ]
    },
    {
      "cell_type": "markdown",
      "source": [
        "Madam's code :"
      ],
      "metadata": {
        "id": "CSohZYbHW1gw"
      }
    },
    {
      "cell_type": "code",
      "execution_count": null,
      "metadata": {
        "colab": {
          "base_uri": "https://localhost:8080/"
        },
        "id": "1qmIM5NpGUJD",
        "outputId": "67106551-ad78-47f9-fcae-c0a0715d6b98"
      },
      "outputs": [
        {
          "output_type": "stream",
          "name": "stdout",
          "text": [
            "A\n"
          ]
        }
      ],
      "source": [
        "mark = 79\n",
        "if mark < 40:\n",
        "    print(\"Fail\")\n",
        "else:\n",
        "    if mark <= 55:\n",
        "        print(\"D\")\n",
        "    elif mark <= 65:\n",
        "        print(\"C\")\n",
        "    elif mark <= 75:\n",
        "        print(\"B\")\n",
        "    elif mark <= 85:\n",
        "        print(\"A\")\n",
        "    else:\n",
        "        print(\"A*\")\n"
      ]
    },
    {
      "cell_type": "code",
      "source": [
        "#num > 17 && num < 21\n",
        "num = 20\n",
        "17 < num < 21"
      ],
      "metadata": {
        "colab": {
          "base_uri": "https://localhost:8080/"
        },
        "id": "GmxfroISOMK2",
        "outputId": "cbf6b98f-1c98-4a9a-95d5-911e345a6afd"
      },
      "execution_count": null,
      "outputs": [
        {
          "output_type": "execute_result",
          "data": {
            "text/plain": [
              "True"
            ]
          },
          "metadata": {},
          "execution_count": 2
        }
      ]
    },
    {
      "cell_type": "code",
      "source": [
        "#Check if a string is lexicographically between two strings or not.\n",
        "#apple, string, cherry\n",
        "text = \"banana\"\n",
        "text1 = \"technology\"\n",
        "\"apple\" < text < \"cherry\""
      ],
      "metadata": {
        "colab": {
          "base_uri": "https://localhost:8080/"
        },
        "id": "KL_diukfO9xx",
        "outputId": "50cfb8a3-899c-4bd5-f810-0af983d134a9"
      },
      "execution_count": null,
      "outputs": [
        {
          "output_type": "execute_result",
          "data": {
            "text/plain": [
              "True"
            ]
          },
          "metadata": {},
          "execution_count": 4
        }
      ]
    },
    {
      "cell_type": "markdown",
      "source": [
        "Lexographically : "
      ],
      "metadata": {
        "id": "778NpADDW6Rr"
      }
    },
    {
      "cell_type": "code",
      "source": [
        "\"apple\" < text1 < \"cherry\""
      ],
      "metadata": {
        "colab": {
          "base_uri": "https://localhost:8080/"
        },
        "id": "cAZn6a8gQFaM",
        "outputId": "e31cc562-93a1-4d3f-bde4-20851e2c8a47"
      },
      "execution_count": null,
      "outputs": [
        {
          "output_type": "execute_result",
          "data": {
            "text/plain": [
              "False"
            ]
          },
          "metadata": {},
          "execution_count": 6
        }
      ]
    },
    {
      "cell_type": "code",
      "source": [
        "#String\n",
        "text1 = \"Check if a string is lexicographically between two strings or not.\"\n",
        "text2 = \"ghfjn6877983101993@talent\"\n",
        "print(text1)\n",
        "print(text2)"
      ],
      "metadata": {
        "colab": {
          "base_uri": "https://localhost:8080/"
        },
        "id": "1-9HKXrhQLn5",
        "outputId": "e672da64-2a6d-47c3-9c06-fec090596a4d"
      },
      "execution_count": null,
      "outputs": [
        {
          "output_type": "stream",
          "name": "stdout",
          "text": [
            "Check if a string is lexicographically between two strings or not.\n",
            "ghfjn6877983101993@talent\n"
          ]
        }
      ]
    },
    {
      "cell_type": "code",
      "source": [
        "text = 'Check if a string is \"lexicographically\" between two strings or not.'\n",
        "print(text)"
      ],
      "metadata": {
        "colab": {
          "base_uri": "https://localhost:8080/"
        },
        "id": "FeL6Ry7IRGTC",
        "outputId": "a09a2e82-e178-4344-ee8d-625ac846d06d"
      },
      "execution_count": null,
      "outputs": [
        {
          "output_type": "stream",
          "name": "stdout",
          "text": [
            "Check if a string is \"lexicographically\" between two strings or not.\n"
          ]
        }
      ]
    },
    {
      "cell_type": "code",
      "source": [
        "text5 = \"My father's name is bikas\"\n",
        "print(text5)"
      ],
      "metadata": {
        "colab": {
          "base_uri": "https://localhost:8080/"
        },
        "id": "DikASfadR3MS",
        "outputId": "aefae3a7-5351-4f57-d067-3b375bff39e2"
      },
      "execution_count": null,
      "outputs": [
        {
          "output_type": "stream",
          "name": "stdout",
          "text": [
            "My father's name is bikas\n"
          ]
        }
      ]
    },
    {
      "cell_type": "code",
      "source": [
        "text6 = '''Check if a string is \n",
        "\"lexicographically\" \n",
        "between two strings \n",
        "or not.'''\n",
        "print(text6)"
      ],
      "metadata": {
        "colab": {
          "base_uri": "https://localhost:8080/"
        },
        "id": "SFWkwlrHSFDW",
        "outputId": "97fec8a4-2c23-44ff-9a09-939c93cea4d6"
      },
      "execution_count": null,
      "outputs": [
        {
          "output_type": "stream",
          "name": "stdout",
          "text": [
            "Check if a string is \n",
            "\"lexicographically\" \n",
            "between two strings \n",
            "or not.\n"
          ]
        }
      ]
    },
    {
      "cell_type": "code",
      "source": [
        "x = \"hello\"\n",
        "y = \"Everyone!\"\n",
        "print(x, y)\n",
        "print(x + ' ' + y)"
      ],
      "metadata": {
        "colab": {
          "base_uri": "https://localhost:8080/"
        },
        "id": "j4-pUTg4ShQ3",
        "outputId": "1f5360b5-6043-49b5-eb01-e9e55799f3dc"
      },
      "execution_count": null,
      "outputs": [
        {
          "output_type": "stream",
          "name": "stdout",
          "text": [
            "hello Everyone!\n",
            "hello Everyone!\n"
          ]
        }
      ]
    },
    {
      "cell_type": "code",
      "source": [
        "print( (x + ' ' + y + ' ') * 5)"
      ],
      "metadata": {
        "colab": {
          "base_uri": "https://localhost:8080/"
        },
        "id": "weKcaLCfTA3k",
        "outputId": "0f71b5af-acee-467a-d191-3bc9a028100a"
      },
      "execution_count": null,
      "outputs": [
        {
          "output_type": "stream",
          "name": "stdout",
          "text": [
            "hello Everyone! hello Everyone! hello Everyone! hello Everyone! hello Everyone! \n"
          ]
        }
      ]
    },
    {
      "cell_type": "code",
      "source": [
        "#check 'e' present in hello or not\n",
        "print('e' in x)"
      ],
      "metadata": {
        "colab": {
          "base_uri": "https://localhost:8080/"
        },
        "id": "b-Imx8VDTk8T",
        "outputId": "9e497842-be25-464b-9fd1-b0608ec3a6b5"
      },
      "execution_count": null,
      "outputs": [
        {
          "output_type": "stream",
          "name": "stdout",
          "text": [
            "True\n"
          ]
        }
      ]
    },
    {
      "cell_type": "code",
      "source": [
        "print(len(\"hello Everyone! hello Everyone! hello Everyone! hello Everyone! hello Everyone!\"))"
      ],
      "metadata": {
        "colab": {
          "base_uri": "https://localhost:8080/"
        },
        "id": "aYziyLHkT4R0",
        "outputId": "3f52763b-9438-4367-a920-ceda705e300a"
      },
      "execution_count": null,
      "outputs": [
        {
          "output_type": "stream",
          "name": "stdout",
          "text": [
            "79\n"
          ]
        }
      ]
    },
    {
      "cell_type": "code",
      "source": [
        "print(len(x))"
      ],
      "metadata": {
        "colab": {
          "base_uri": "https://localhost:8080/"
        },
        "id": "Q4lGATDUUXML",
        "outputId": "b9c1aa8e-0ae9-478d-f3fc-372e0cb4cb62"
      },
      "execution_count": null,
      "outputs": [
        {
          "output_type": "stream",
          "name": "stdout",
          "text": [
            "5\n"
          ]
        }
      ]
    },
    {
      "cell_type": "code",
      "source": [
        "print(10/3)"
      ],
      "metadata": {
        "colab": {
          "base_uri": "https://localhost:8080/"
        },
        "id": "H1NJbGkiSO6r",
        "outputId": "983710f3-1cc6-4a76-ab07-aac7bfece905"
      },
      "execution_count": null,
      "outputs": [
        {
          "output_type": "stream",
          "name": "stdout",
          "text": [
            "3.3333333333333335\n"
          ]
        }
      ]
    },
    {
      "cell_type": "markdown",
      "source": [
        "WE SESSION 4"
      ],
      "metadata": {
        "id": "x_OHiKgCW5o8"
      }
    },
    {
      "cell_type": "code",
      "source": [
        "s = \"Hello World\"\n",
        "\n",
        "print(s)\n",
        "print(s[1])\n",
        "print(s[-2])\n",
        "print(s[0:5])\n",
        "print(s[:4])\n",
        "print(s[::2])"
      ],
      "metadata": {
        "colab": {
          "base_uri": "https://localhost:8080/"
        },
        "id": "kCc0wgz6W_fz",
        "outputId": "7c77eb91-462b-4f9c-a298-2e40af30b08b"
      },
      "execution_count": null,
      "outputs": [
        {
          "output_type": "stream",
          "name": "stdout",
          "text": [
            "Hello World\n",
            "e\n",
            "l\n",
            "Hello\n",
            "Hell\n",
            "HloWrd\n"
          ]
        }
      ]
    },
    {
      "cell_type": "code",
      "source": [
        "num_list = [1,34,5,21,22,90,12]\n",
        "deci_list = [2.3,4.5,80.6,99,77]\n",
        "\n",
        "print(max(num_list))\n",
        "print(min(deci_list) , max(deci_list))"
      ],
      "metadata": {
        "colab": {
          "base_uri": "https://localhost:8080/"
        },
        "id": "uy5_NL2McX7B",
        "outputId": "3a0e4718-4fbf-41c4-c083-8487d5241978"
      },
      "execution_count": null,
      "outputs": [
        {
          "output_type": "stream",
          "name": "stdout",
          "text": [
            "90\n",
            "2.3 99\n"
          ]
        }
      ]
    },
    {
      "cell_type": "code",
      "source": [
        "for item in range(1,21,5):\n",
        "  print(item)"
      ],
      "metadata": {
        "colab": {
          "base_uri": "https://localhost:8080/"
        },
        "id": "jvGPnxxaearq",
        "outputId": "d9d61280-6f87-46c9-ad48-571a0593c1f8"
      },
      "execution_count": null,
      "outputs": [
        {
          "output_type": "stream",
          "name": "stdout",
          "text": [
            "1\n",
            "6\n",
            "11\n",
            "16\n"
          ]
        }
      ]
    },
    {
      "cell_type": "code",
      "source": [
        "complex_list = [(2+9j),(3-6j),(6),(23+1j)]\n",
        "\n",
        "# complex_list = [(2+9j),(3-6j),(6),(23+j)]    <- Won't work as j is letter but 1j is img part\n",
        "\n",
        "print(complex_list)\n",
        "print(sum(complex_list))"
      ],
      "metadata": {
        "colab": {
          "base_uri": "https://localhost:8080/"
        },
        "id": "ikGvtSz8fArr",
        "outputId": "c0a0acb3-e83a-4d23-ac34-ffbdf47b3946"
      },
      "execution_count": null,
      "outputs": [
        {
          "output_type": "stream",
          "name": "stdout",
          "text": [
            "[(2+9j), (3-6j), 6, (23+1j)]\n",
            "(34+4j)\n"
          ]
        }
      ]
    },
    {
      "cell_type": "markdown",
      "source": [
        "Multi Words Variable Names :\n",
        "__________________________________________________\n",
        "\n",
        "Variable names with more than one word can be difficult to read.\n",
        "\n",
        "There are several techniques you can use to make them more readable:\n",
        "\n",
        "**Camel Case**\n",
        "Each word, except the first, starts with a capital letter:\n",
        "\n",
        "myVariableName = \"John\"\n",
        "\n",
        "**Pascal Case**\n",
        "Each word starts with a capital letter:\n",
        "\n",
        "MyVariableName = \"John\"\n",
        "\n",
        "**Snake Case**\n",
        "Each word is separated by an underscore character:\n",
        "\n",
        "my_variable_name = \"John\""
      ],
      "metadata": {
        "id": "wGAfwfvB7Qcz"
      }
    },
    {
      "cell_type": "code",
      "source": [
        "x = range(6)\n",
        "print(type(x))"
      ],
      "metadata": {
        "colab": {
          "base_uri": "https://localhost:8080/"
        },
        "id": "7MK4wQ947PnS",
        "outputId": "829fe089-ed79-4566-96e4-dd72050d385c"
      },
      "execution_count": null,
      "outputs": [
        {
          "output_type": "stream",
          "name": "stdout",
          "text": [
            "<class 'range'>\n"
          ]
        }
      ]
    },
    {
      "cell_type": "markdown",
      "source": [],
      "metadata": {
        "id": "4MZblHxdAdWh"
      }
    },
    {
      "cell_type": "markdown",
      "source": [
        "**SESSION 4**"
      ],
      "metadata": {
        "id": "pko146_UAXuk"
      }
    },
    {
      "cell_type": "markdown",
      "source": [
        "**Functions**"
      ],
      "metadata": {
        "id": "AE38i2lGgm33"
      }
    },
    {
      "cell_type": "code",
      "source": [
        "def add2(a,b):\n",
        "  return a+b"
      ],
      "metadata": {
        "id": "kK-x5W4Ahq8I"
      },
      "execution_count": null,
      "outputs": []
    },
    {
      "cell_type": "code",
      "source": [
        "add2(\"Hi\",\"Rama\")"
      ],
      "metadata": {
        "colab": {
          "base_uri": "https://localhost:8080/",
          "height": 35
        },
        "id": "kIYmnE-3hw7F",
        "outputId": "f7b78f74-59f7-4469-81e2-eedacb6e65dc"
      },
      "execution_count": null,
      "outputs": [
        {
          "output_type": "execute_result",
          "data": {
            "text/plain": [
              "'HiRama'"
            ],
            "application/vnd.google.colaboratory.intrinsic+json": {
              "type": "string"
            }
          },
          "metadata": {},
          "execution_count": 8
        }
      ]
    },
    {
      "cell_type": "code",
      "source": [
        "def square(num):\n",
        "  return num*num"
      ],
      "metadata": {
        "id": "BSEhn67KgmnF"
      },
      "execution_count": null,
      "outputs": []
    },
    {
      "cell_type": "code",
      "source": [
        "print(square(6))\n",
        "print(square(9.5))\n",
        "print(square(8j))"
      ],
      "metadata": {
        "colab": {
          "base_uri": "https://localhost:8080/"
        },
        "id": "sOzEzDgWgiLP",
        "outputId": "f26a143c-90f6-423b-c455-365277d66c3e"
      },
      "execution_count": null,
      "outputs": [
        {
          "output_type": "stream",
          "name": "stdout",
          "text": [
            "36\n",
            "90.25\n",
            "(-64+0j)\n"
          ]
        }
      ]
    },
    {
      "cell_type": "markdown",
      "source": [
        "Function argument type mentioned"
      ],
      "metadata": {
        "id": "rQFkR9mChalA"
      }
    },
    {
      "cell_type": "code",
      "source": [
        "def square2(num: int) -> int:\n",
        "  return num * num"
      ],
      "metadata": {
        "id": "52A0w0IGhaPE"
      },
      "execution_count": null,
      "outputs": []
    },
    {
      "cell_type": "code",
      "source": [
        "print(square2(3))\n",
        "print(square2(7.9))"
      ],
      "metadata": {
        "colab": {
          "base_uri": "https://localhost:8080/"
        },
        "id": "EH_6wDZtiY8l",
        "outputId": "b74ed06c-ffd5-494a-e155-f8f2252dca34"
      },
      "execution_count": null,
      "outputs": [
        {
          "output_type": "stream",
          "name": "stdout",
          "text": [
            "9\n",
            "62.410000000000004\n"
          ]
        }
      ]
    },
    {
      "cell_type": "code",
      "source": [
        "def deci(num :int)-> float:    # these specifications are only for users to follow, although we will get no error even if\n",
        "                               # other datatypes are used while calling this function\n",
        "  return num*num\n",
        "print(deci(4))"
      ],
      "metadata": {
        "colab": {
          "base_uri": "https://localhost:8080/"
        },
        "id": "ImvK0LujAogW",
        "outputId": "3637f16b-73c0-46f0-e129-6e222cf64bdd"
      },
      "execution_count": null,
      "outputs": [
        {
          "output_type": "stream",
          "name": "stdout",
          "text": [
            "16\n"
          ]
        }
      ]
    },
    {
      "cell_type": "code",
      "source": [
        "def deci2(num :float)-> int:\n",
        "  return num*num\n",
        "print(deci(9.4))"
      ],
      "metadata": {
        "colab": {
          "base_uri": "https://localhost:8080/"
        },
        "id": "4VAq2DSTBOB8",
        "outputId": "53e26681-1921-4f53-d297-6facf8565f11"
      },
      "execution_count": null,
      "outputs": [
        {
          "output_type": "stream",
          "name": "stdout",
          "text": [
            "88.36000000000001\n"
          ]
        }
      ]
    },
    {
      "cell_type": "code",
      "source": [
        "text = \"Today is a holiday. A girl is enjoying\"\n",
        "\n",
        "def vowel_freq(t):\n",
        "\n",
        "  c=0\n",
        "  for i in t:\n",
        "    if i.lower() in ['a','e','i','o','u']:\n",
        "      c+=1\n",
        "  return c\n",
        "\n",
        "print(vowel_freq(text))"
      ],
      "metadata": {
        "colab": {
          "base_uri": "https://localhost:8080/"
        },
        "id": "zCR881Z7irAz",
        "outputId": "7ef15912-a97c-4799-e21f-1c2e4818cb84"
      },
      "execution_count": null,
      "outputs": [
        {
          "output_type": "stream",
          "name": "stdout",
          "text": [
            "13\n"
          ]
        }
      ]
    },
    {
      "cell_type": "code",
      "source": [
        "def prime_check(num):\n",
        "\n",
        "  for i in range(2,num):\n",
        "    if num%i ==0:\n",
        "      return \"No\"\n",
        "    \n",
        "    else:\n",
        "      continue\n",
        "  return \"Yes\""
      ],
      "metadata": {
        "id": "_qQ9XfvZkTAA"
      },
      "execution_count": null,
      "outputs": []
    },
    {
      "cell_type": "code",
      "source": [
        "print(prime_check(34))"
      ],
      "metadata": {
        "colab": {
          "base_uri": "https://localhost:8080/"
        },
        "id": "juskBZemktpG",
        "outputId": "d89e92b2-5e2a-4a23-89fc-439614d7929f"
      },
      "execution_count": null,
      "outputs": [
        {
          "output_type": "stream",
          "name": "stdout",
          "text": [
            "No\n"
          ]
        }
      ]
    },
    {
      "cell_type": "code",
      "source": [
        "# ANOTHER METHOD TO CHECK FOR PRIME :\n",
        "\n",
        "def is_prime(num: int) -> bool:\n",
        "  if num <2:\n",
        "    return False\n",
        "  elif num == 2:\n",
        "    return True\n",
        "  elif num % 2 == 0:\n",
        "    return False\n",
        "  r = 3\n",
        "  while r*r <= num:       # TRICKY LINE\n",
        "\n",
        "    if num% r ==0:\n",
        "      return False\n",
        "    r +=2                 # to skip even nos.\n",
        "  return True"
      ],
      "metadata": {
        "id": "9dR_682PDAet"
      },
      "execution_count": 4,
      "outputs": []
    },
    {
      "cell_type": "code",
      "source": [
        "print(is_prime(78))\n",
        "print(is_prime(89))"
      ],
      "metadata": {
        "colab": {
          "base_uri": "https://localhost:8080/"
        },
        "id": "gSoncPG0sULR",
        "outputId": "5bf56f8d-4975-4579-b812-f54190c0c21e"
      },
      "execution_count": 5,
      "outputs": [
        {
          "output_type": "stream",
          "name": "stdout",
          "text": [
            "False\n",
            "True\n"
          ]
        }
      ]
    }
  ]
}