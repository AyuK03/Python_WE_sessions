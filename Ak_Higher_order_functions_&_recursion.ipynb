{
  "nbformat": 4,
  "nbformat_minor": 0,
  "metadata": {
    "colab": {
      "provenance": [],
      "authorship_tag": "ABX9TyMvj+WFaDUKzygK9ugtmWZQ",
      "include_colab_link": true
    },
    "kernelspec": {
      "name": "python3",
      "display_name": "Python 3"
    },
    "language_info": {
      "name": "python"
    }
  },
  "cells": [
    {
      "cell_type": "markdown",
      "metadata": {
        "id": "view-in-github",
        "colab_type": "text"
      },
      "source": [
        "<a href=\"https://colab.research.google.com/github/AyuK03/Python_WE_sessions/blob/main/Ak_Higher_order_functions_%26_recursion.ipynb\" target=\"_parent\"><img src=\"https://colab.research.google.com/assets/colab-badge.svg\" alt=\"Open In Colab\"/></a>"
      ]
    },
    {
      "cell_type": "markdown",
      "source": [
        "**RECURSION**"
      ],
      "metadata": {
        "id": "7BwAwb7nvmhX"
      }
    },
    {
      "cell_type": "code",
      "source": [
        "#check if a number is a power of 2 or not\n",
        "def isPowerOf2(num): #64, 32, 16,\n",
        "    if num == 1:\n",
        "        return True\n",
        "    if num % 2 == 1:\n",
        "        return False\n",
        "    return isPowerOf2(num // 2) "
      ],
      "metadata": {
        "id": "pTfO4QERolPN"
      },
      "execution_count": null,
      "outputs": []
    },
    {
      "cell_type": "code",
      "source": [
        "isPowerOf2(64)"
      ],
      "metadata": {
        "id": "742KFX00oxfA"
      },
      "execution_count": null,
      "outputs": []
    },
    {
      "cell_type": "code",
      "source": [
        "isPowerOf2(1026)"
      ],
      "metadata": {
        "id": "GEwm0OZvo0Bw"
      },
      "execution_count": null,
      "outputs": []
    },
    {
      "cell_type": "code",
      "source": [
        "#Write a recursive function to check if a given string is palindrome or not.\n",
        "def isPalindrome(text):\n",
        "    if len(text) <= 1:\n",
        "        return True\n",
        "    if text[0] != text[-1]:\n",
        "        return False\n",
        "    return isPalindrome(text[1:-1])"
      ],
      "metadata": {
        "id": "64kyBvJCoq8R"
      },
      "execution_count": null,
      "outputs": []
    },
    {
      "cell_type": "code",
      "source": [
        "isPalindrome(\"peep\")\n",
        "isPalindrome(\"madam\")"
      ],
      "metadata": {
        "id": "eZJbg-v9otzG"
      },
      "execution_count": null,
      "outputs": []
    },
    {
      "cell_type": "markdown",
      "source": [
        "# **Higher Order Functions**\n",
        "\n",
        "\n",
        "1.   take another function and an iterable as argument\n",
        "2.   returns ***an object*** as the return type\n",
        "3.   map(), filter(), reduce()\n",
        "\n",
        "4.   map() & filter() are built-in-functions\n",
        "\n",
        "5.   reduce() is contained in functools() module\n",
        "\n",
        "\n"
      ],
      "metadata": {
        "id": "GgdZ0fBdo_GZ"
      }
    },
    {
      "cell_type": "markdown",
      "source": [
        "**MAP**"
      ],
      "metadata": {
        "id": "stkvjoFiOKt_"
      }
    },
    {
      "cell_type": "code",
      "source": [
        "def cube(n):\n",
        "    return n * n * n\n",
        "\n",
        "num = [1, 2, 3, 4, 56, 78, 90]\n",
        "cube_list = map(cube, num)\n",
        "\n",
        "print(cube_list)\n",
        "print(list(cube_list))\n",
        "print(list(cube_list))"
      ],
      "metadata": {
        "colab": {
          "base_uri": "https://localhost:8080/"
        },
        "id": "HGMmr65buXJv",
        "outputId": "2bbbdc21-010b-47ef-881a-3fa0dabb8da3"
      },
      "execution_count": 1,
      "outputs": [
        {
          "output_type": "stream",
          "name": "stdout",
          "text": [
            "<map object at 0x7f49cc28d4e0>\n",
            "[1, 8, 27, 64, 175616, 474552, 729000]\n",
            "[]\n"
          ]
        }
      ]
    },
    {
      "cell_type": "code",
      "source": [
        "x = [1, 2, 3, 4, 5]"
      ],
      "metadata": {
        "id": "kJsx8vW5ue73"
      },
      "execution_count": 2,
      "outputs": []
    },
    {
      "cell_type": "code",
      "source": [
        "for mx in map(cube, x):\n",
        "    print(mx)"
      ],
      "metadata": {
        "colab": {
          "base_uri": "https://localhost:8080/"
        },
        "id": "Q7x6PTaTueuc",
        "outputId": "0bf9ab5b-4c18-485f-d1ae-326b7ffedb79"
      },
      "execution_count": 3,
      "outputs": [
        {
          "output_type": "stream",
          "name": "stdout",
          "text": [
            "1\n",
            "8\n",
            "27\n",
            "64\n",
            "125\n"
          ]
        }
      ]
    },
    {
      "cell_type": "code",
      "source": [
        "mxs = map(cube, x)\n",
        "for item in mxs:\n",
        "    print(item)"
      ],
      "metadata": {
        "colab": {
          "base_uri": "https://localhost:8080/"
        },
        "id": "fFDK4ov3uqN7",
        "outputId": "5731c74c-b1a2-47ac-dca5-568d7b581653"
      },
      "execution_count": 4,
      "outputs": [
        {
          "output_type": "stream",
          "name": "stdout",
          "text": [
            "1\n",
            "8\n",
            "27\n",
            "64\n",
            "125\n"
          ]
        }
      ]
    },
    {
      "cell_type": "code",
      "execution_count": null,
      "metadata": {
        "id": "rPp8YQ-hN4g5"
      },
      "outputs": [],
      "source": [
        "def powe(n,m):\n",
        "  return n**m\n",
        "\n",
        "a = [12,34,56,78,99]\n",
        "b = [1,2,3,4,5]\n",
        "\n",
        "map(powe, )\n",
        "#\n"
      ]
    },
    {
      "cell_type": "code",
      "source": [],
      "metadata": {
        "id": "VmcR_O5kPFoX"
      },
      "execution_count": null,
      "outputs": []
    },
    {
      "cell_type": "markdown",
      "source": [
        "**FILTER**\n",
        "\n",
        "filter(function, iterable)"
      ],
      "metadata": {
        "id": "SEPgPqNDPGPq"
      }
    },
    {
      "cell_type": "code",
      "source": [
        "def isOdd(x):\n",
        "  if x%2 == 1:\n",
        "    return True\n",
        "  \n",
        "a = [1, 2, 3, 45, 67, 88, 97, 456]\n",
        "odd = filter(isOdd,a)\n",
        "print(odd)\n",
        "print(list(odd))"
      ],
      "metadata": {
        "colab": {
          "base_uri": "https://localhost:8080/"
        },
        "id": "DnM9BTkzPIQC",
        "outputId": "9bacffac-84b9-45de-c3a6-59ac3b62db61"
      },
      "execution_count": null,
      "outputs": [
        {
          "output_type": "stream",
          "name": "stdout",
          "text": [
            "<filter object at 0x7f22ad459330>\n",
            "[1, 3, 45, 67, 97]\n"
          ]
        }
      ]
    },
    {
      "cell_type": "code",
      "source": [
        "#reduce()\n",
        "#functools module\n",
        "#functools.reduce(function, iterable)\n",
        "#Calculate the product of a list.\n",
        "\n",
        "import functools\n",
        "def multiplication(x,y):\n",
        "  return x*y\n",
        "\n",
        "a = [1, 2, 3, 4, 5, 6, 7, 8, 9]\n",
        "\n",
        "result = functools.reduce(multiplication, a)\n",
        "print(result)"
      ],
      "metadata": {
        "colab": {
          "base_uri": "https://localhost:8080/"
        },
        "id": "vC5HSX9pQPdJ",
        "outputId": "4df21aec-de86-4c47-e83c-c15c6bd938d7"
      },
      "execution_count": null,
      "outputs": [
        {
          "output_type": "stream",
          "name": "stdout",
          "text": [
            "362880\n"
          ]
        }
      ]
    },
    {
      "cell_type": "markdown",
      "source": [
        "map -- built-in           \"Is a RECURSION\"\n",
        "\n",
        "filter -- built-in        \"IS a RECURSION\"\n",
        "\n",
        "reduce -- in functools    \"Is a RECURSION\"\n",
        "\n",
        "**map(f,c)** => [ f(c[0]), f(c[1]), ... f(c[-1]) ] \n",
        "\n",
        "**filter(f,c)** => subset of c; those elements for which f(c[i]) is True\n",
        "\n",
        "--- filter requires a boolean : a condiition being satisfied or not ---\n",
        "\n",
        "**reduce(f,c)** => reduce(f, [f(c[0],c[1]), c[2], c[3] ... c[-1])]\n",
        "\n",
        "**Base case** : when collection has 2 elements OR it can be same last element being returned\n",
        "\n",
        "--- reduce output a single value ---"
      ],
      "metadata": {
        "id": "f0pgvVioSAQE"
      }
    },
    {
      "cell_type": "markdown",
      "source": [
        "***Assignment Qn***"
      ],
      "metadata": {
        "id": "SMw2OpgpwGIo"
      }
    }
  ]
}